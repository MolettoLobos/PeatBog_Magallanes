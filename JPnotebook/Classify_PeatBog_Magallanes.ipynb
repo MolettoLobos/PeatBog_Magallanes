{
 "cells": [
  {
   "cell_type": "code",
   "execution_count": null,
   "metadata": {},
   "outputs": [],
   "source": [
    "import ee\n",
    "import geemap as emap\n",
    "import datetime\n",
    "\n",
    "ee.Initialize()"
   ]
  },
  {
   "cell_type": "code",
   "execution_count": null,
   "metadata": {},
   "outputs": [],
   "source": [
    "legend_dict = {\n",
    "    'one': (0, 0, 0),\n",
    "    'two': (255,255,0),\n",
    "    'three': (127, 0, 127)\n",
    "}\n",
    "Map.add_legend(legend_title='Legend', legend_dict=legend_dict, position='bottomright')\n",
    "Map.add_legend(builtin_legend='NLCD')"
   ]
  }
 ],
 "metadata": {
  "kernelspec": {
   "display_name": "Python 3",
   "language": "python",
   "name": "python3"
  },
  "language_info": {
   "codemirror_mode": {
    "name": "ipython",
    "version": 3
   },
   "file_extension": ".py",
   "mimetype": "text/x-python",
   "name": "python",
   "nbconvert_exporter": "python",
   "pygments_lexer": "ipython3",
   "version": "3.7.8"
  }
 },
 "nbformat": 4,
 "nbformat_minor": 2
}
